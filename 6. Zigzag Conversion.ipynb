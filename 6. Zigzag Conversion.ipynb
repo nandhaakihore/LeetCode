{
 "cells": [
  {
   "cell_type": "code",
   "execution_count": null,
   "id": "00f359e6",
   "metadata": {
    "vscode": {
     "languageId": "plaintext"
    }
   },
   "outputs": [],
   "source": [
    "class Solution:\n",
    "    def convert(self, s: str, numRows: int) -> str:\n",
    "        length = len(s)\n",
    "        i = 0\n",
    "        row = 0\n",
    "        page = [\"\"] * numRows\n",
    "\n",
    "        print(length)\n",
    "\n",
    "        while(i<length):\n",
    "            for row in range(numRows):\n",
    "                page[row] = page[row] + s[i]\n",
    "                print(\"page \" + str(row) + \": \" + page[row] + \" |s[\" + str(i) + \"]: \" + s[i])\n",
    "\n",
    "                i += 1\n",
    "                if(i>=length):\n",
    "                    break\n",
    "            \n",
    "            if(i>=length):\n",
    "                break\n",
    "\n",
    "            row -= 1\n",
    "            \n",
    "            while(row > 0):\n",
    "                page[row] = page[row] + s[i]\n",
    "                row -= 1\n",
    "                i += 1\n",
    "\n",
    "                if(i>=length):\n",
    "                    break\n",
    "            \n",
    "            if(i>=length):\n",
    "                break\n",
    "        \n",
    "        ans = \"\"\n",
    "\n",
    "        for row in range(numRows):\n",
    "            ans = ans + page[row]\n",
    "    \n",
    "        return ans"
   ]
  }
 ],
 "metadata": {
  "language_info": {
   "name": "python"
  }
 },
 "nbformat": 4,
 "nbformat_minor": 5
}
