{
 "cells": [
  {
   "cell_type": "code",
   "execution_count": null,
   "id": "09e49f6b",
   "metadata": {
    "vscode": {
     "languageId": "plaintext"
    }
   },
   "outputs": [],
   "source": [
    "class Solution:\n",
    "    def longestPalindrome(self, s: str) -> str:\n",
    "        l = len(s)\n",
    "        strcrr=\"\"\n",
    "        strbig = \"\"\n",
    "        i=0\n",
    "        flag = 0\n",
    "        if(s == s[::-1]):\n",
    "            strbig = s\n",
    "        else:\n",
    "            for i in range(l+1):\n",
    "                for j in range(i+1, l+1):\n",
    "                    # print (\"check \"+ s[i:j])\n",
    "                    if(s[i:j] == s[i:j][::-1]):\n",
    "                        strcrr = s[i:j]\n",
    "                        # print (\"crr \"+strcrr +\" \",len(strcrr))\n",
    "                        # print (\"big \"+strbig +\" \",len(strbig))\n",
    "                        if(len(strcrr)>len(strbig)):\n",
    "                            strbig = strcrr                \n",
    "        # print (\"big \"+strbig)\n",
    "        if(len(strbig)<=1):\n",
    "            strbig = s[0]\n",
    "        return strbig"
   ]
  }
 ],
 "metadata": {
  "language_info": {
   "name": "python"
  }
 },
 "nbformat": 4,
 "nbformat_minor": 5
}
