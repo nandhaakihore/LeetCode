{
 "cells": [
  {
   "cell_type": "code",
   "execution_count": null,
   "id": "7580f5cd",
   "metadata": {
    "vscode": {
     "languageId": "plaintext"
    }
   },
   "outputs": [],
   "source": [
    "class Solution:\n",
    "    def myAtoi(self, s: str) -> int:\n",
    "        l = len(s)\n",
    "        sign = 1\n",
    "        number = 0\n",
    "        state = 1\n",
    "        for i in range(l):\n",
    "            if state in [1] and s[i] == ' ':\n",
    "                state = 1\n",
    "            elif state in [1] and (s[i] == '+' or s[i] == '-') :\n",
    "                state = 2\n",
    "                if(s[i] == '-'):\n",
    "                    sign = -1\n",
    "            elif state in [1, 2, 3] and s[i].isdigit():\n",
    "                state = 3\n",
    "                number = (number * 10) + int(s[i])\n",
    "            elif state == 3:\n",
    "                break\n",
    "            else:\n",
    "                break\n",
    "\n",
    "        number = number * sign\n",
    "\n",
    "        if number <= -2**31:\n",
    "            number = -2**31 \n",
    "        elif number >= 2**31 :\n",
    "            number = 2**31 -1\n",
    "\n",
    "        return number"
   ]
  }
 ],
 "metadata": {
  "language_info": {
   "name": "python"
  }
 },
 "nbformat": 4,
 "nbformat_minor": 5
}
