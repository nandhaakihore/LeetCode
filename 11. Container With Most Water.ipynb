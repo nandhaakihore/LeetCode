{
 "cells": [
  {
   "cell_type": "code",
   "execution_count": null,
   "id": "72880098",
   "metadata": {
    "vscode": {
     "languageId": "plaintext"
    }
   },
   "outputs": [],
   "source": [
    "class Solution:\n",
    "    def maxArea(self, height: List[int]) -> int:\n",
    "        length = len(height)\n",
    "        i = 0\n",
    "        j = length - 1\n",
    "\n",
    "        Vol = min(height[i], height[j]) * abs(j - i)\n",
    "\n",
    "        while ( i < j):\n",
    "\n",
    "            Ti = height[i]\n",
    "            Tj = height[j]\n",
    "            \n",
    "            # print(i)\n",
    "            # print(j)\n",
    "            # print(Ti)\n",
    "            # print(Tj)\n",
    "            # print(Vol)\n",
    "            Vol = max(Vol, min(Ti, Tj) * abs(j - i))\n",
    "            # print(Vol)\n",
    "            # print(height[i:j+1])\n",
    "            \n",
    "            if(Ti < Tj):\n",
    "                i = i + 1\n",
    "            else:\n",
    "                j = j - 1\n",
    "\n",
    "        return Vol"
   ]
  }
 ],
 "metadata": {
  "language_info": {
   "name": "python"
  }
 },
 "nbformat": 4,
 "nbformat_minor": 5
}
