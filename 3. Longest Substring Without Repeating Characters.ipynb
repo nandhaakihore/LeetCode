{
 "cells": [
  {
   "cell_type": "code",
   "execution_count": null,
   "id": "73a8c753",
   "metadata": {},
   "outputs": [],
   "source": [
    "class Solution:\n",
    "    def lengthOfLongestSubstring(self, s: str) -> int:\n",
    "        l = len(s)\n",
    "        strcrr=\"\"\n",
    "        strbig = \"\"\n",
    "        i=0\n",
    "        flag = 0\n",
    "        while(i<l):\n",
    "            if(s[i] not in strcrr):\n",
    "                strcrr += s[i]\n",
    "            else:\n",
    "                if(len(strcrr)>len(strbig)):\n",
    "                    strbig = strcrr\n",
    "                Dloc = strcrr.index(s[i])\n",
    "                strcrr = strcrr[Dloc+1:] + s[i]\n",
    "            i += 1\n",
    "            # print(\"till \"+s[:i:])\n",
    "            # print(\"crr \"+strcrr)\n",
    "            # print(\"big \"+strbig)\n",
    "        if(len(strcrr)>len(strbig)):\n",
    "            strbig = strcrr\n",
    "        return len(strbig)"
   ]
  }
 ],
 "metadata": {
  "language_info": {
   "name": "python"
  }
 },
 "nbformat": 4,
 "nbformat_minor": 5
}
