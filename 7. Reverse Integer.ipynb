{
 "cells": [
  {
   "cell_type": "code",
   "execution_count": null,
   "id": "984f9308",
   "metadata": {
    "vscode": {
     "languageId": "plaintext"
    }
   },
   "outputs": [],
   "source": [
    "class Solution:\n",
    "    def reverse(self, x: int) -> int:\n",
    "        rev = 0\n",
    "        signx = 0\n",
    "        if(x>0):\n",
    "            signx = 1\n",
    "        else:\n",
    "            signx = -1\n",
    "            x = x * signx\n",
    "        while(x>0):\n",
    "            rev = (rev * 10) + (x % 10)\n",
    "            x = x // 10\n",
    "        rev = rev * signx\n",
    "        if (rev < -2**31 or rev > 2**31 - 1):\n",
    "            rev = 0\n",
    "        return rev"
   ]
  }
 ],
 "metadata": {
  "language_info": {
   "name": "python"
  }
 },
 "nbformat": 4,
 "nbformat_minor": 5
}
